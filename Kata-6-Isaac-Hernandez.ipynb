{
 "cells": [
  {
   "cell_type": "markdown",
   "metadata": {},
   "source": [
    "## **Ejercicio 1: ¿Plutón es un planeta?**\n",
    "\n",
    "+ Se crea una lista con los nombres del planeta del sistema solar.\n",
    "+ Se añade Plutón con el método pop de las lista."
   ]
  },
  {
   "cell_type": "code",
   "execution_count": 11,
   "metadata": {},
   "outputs": [],
   "source": [
    "planets = ['Mercurio', 'Venus', 'Tierra', 'Marte', 'Jupiter', 'Saturno', 'Urano', 'Neptuno']"
   ]
  },
  {
   "cell_type": "code",
   "execution_count": 12,
   "metadata": {},
   "outputs": [
    {
     "name": "stdout",
     "output_type": "stream",
     "text": [
      "Hasta el momento se considera que hay 8 planetas en el sistema solar.\n",
      "Pero aveces se considera que Plutón es en un planeta, por lo que en caso que se le considere,\n",
      " serían en realidad 9 en el sistema solar. \n"
     ]
    }
   ],
   "source": [
    "print(f'Hasta el momento se considera que hay {len(planets)} planetas en el sistema solar.')\n",
    "planets.append('Plutón')\n",
    "print('Pero aveces se considera que Plutón es en un planeta, por lo que en caso que se le considere,\\n',\n",
    "f'serían en realidad {len(planets)} en el sistema solar. '\n",
    ")"
   ]
  },
  {
   "cell_type": "markdown",
   "metadata": {},
   "source": [
    "## **Ejercicio 2: Slicing**"
   ]
  },
  {
   "cell_type": "code",
   "execution_count": 17,
   "metadata": {},
   "outputs": [],
   "source": [
    "planets = ['Mercurio', 'Venus', 'Tierra', 'Marte', 'Jupiter', 'Saturno', 'Urano', 'Neptuno']"
   ]
  },
  {
   "cell_type": "code",
   "execution_count": 18,
   "metadata": {},
   "outputs": [
    {
     "name": "stdout",
     "output_type": "stream",
     "text": [
      "Marte sí pertenece a nuestro sistema solar\n"
     ]
    }
   ],
   "source": [
    "usuario = input('Ingrese el nombre de un planeta que pertenezca a nuestro sistema. Su incial debe coomenzar con mayúculas: ')\n",
    "if usuario in planets:\n",
    "    print(f'{usuario} sí pertenece a nuestro sistema solar')\n",
    "\n",
    "else:\n",
    "    print(f'{usuario} no pertenece a nuestro sistema solar')"
   ]
  },
  {
   "cell_type": "code",
   "execution_count": 25,
   "metadata": {},
   "outputs": [
    {
     "name": "stdout",
     "output_type": "stream",
     "text": [
      "Los planetas que estan entre el sol y Marte:  ['Mercurio', 'Venus', 'Tierra']\n"
     ]
    }
   ],
   "source": [
    "usuario_index = planets.index(f'{usuario}')\n",
    "sol_planets = planets[0:usuario_index]\n",
    "print(f'Los planetas que estan entre el sol y {usuario}: ', sol_planets)"
   ]
  },
  {
   "cell_type": "code",
   "execution_count": 32,
   "metadata": {},
   "outputs": [
    {
     "name": "stdout",
     "output_type": "stream",
     "text": [
      "Los planetas más alejados del sol depués de Marte son: ['Jupiter', 'Saturno', 'Urano', 'Neptuno']\n"
     ]
    }
   ],
   "source": [
    "planets_end = planets[(usuario_index +1 ):]\n",
    "print(f'Los planetas más alejados del sol depués de {usuario} son: {planets_end}')"
   ]
  },
  {
   "cell_type": "markdown",
   "metadata": {},
   "source": []
  }
 ],
 "metadata": {
  "interpreter": {
   "hash": "b2aae7782ae4367a798962cc23c8b13f95033841de453e3e0cd17426c57e03ec"
  },
  "kernelspec": {
   "display_name": "Python 3.9.7 64-bit",
   "language": "python",
   "name": "python3"
  },
  "language_info": {
   "codemirror_mode": {
    "name": "ipython",
    "version": 3
   },
   "file_extension": ".py",
   "mimetype": "text/x-python",
   "name": "python",
   "nbconvert_exporter": "python",
   "pygments_lexer": "ipython3",
   "version": "3.9.7"
  },
  "orig_nbformat": 4
 },
 "nbformat": 4,
 "nbformat_minor": 2
}
