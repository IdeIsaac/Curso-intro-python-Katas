{
 "cells": [
  {
   "cell_type": "markdown",
   "metadata": {},
   "source": [
    "## **Haciendo usos de las setencias if, elif, else (en ese orden)**"
   ]
  },
  {
   "cell_type": "code",
   "execution_count": 11,
   "metadata": {},
   "outputs": [
    {
     "name": "stdout",
     "output_type": "stream",
     "text": [
      "a no es igual a b\n"
     ]
    }
   ],
   "source": [
    "#Usando el if, elif., else\n",
    "\n",
    "a=97\n",
    "b=23\n",
    "\n",
    "if a<b: \n",
    "    print('a es menor que b')\n",
    "    if a>b:\n",
    "        print('a es mayor que b')\n",
    "    else:\n",
    "        print('En calquiera de los dos casos, el resultado de la suma entre en los dos es: ', a+b)\n",
    "elif a==b:\n",
    "    print('¡Ojito!, que a es igual a b')\n",
    "else:\n",
    "    print('a no es igual a b')\n"
   ]
  },
  {
   "cell_type": "markdown",
   "metadata": {},
   "source": [
    "## **¡Advertencia, un asteroide se acerca!**"
   ]
  },
  {
   "cell_type": "code",
   "execution_count": 12,
   "metadata": {},
   "outputs": [
    {
     "name": "stdout",
     "output_type": "stream",
     "text": [
      "¡Advertencias, ciudadanos! un asteroide se acerca. Su velocidad es de 49 Km/s. Impacto inminente\n"
     ]
    }
   ],
   "source": [
    "asteroide=49\n",
    "\n",
    "if asteroide >= 25:\n",
    "    print('¡Advertencias, ciudadanos! un asteroide se acerca. Su velocidad es de '+ str(asteroide) + ' Km/s. Impacto inminente')"
   ]
  },
  {
   "cell_type": "markdown",
   "metadata": {},
   "source": [
    "##                      **Huella de un asteroire en el cielo**"
   ]
  },
  {
   "cell_type": "code",
   "execution_count": 15,
   "metadata": {},
   "outputs": [
    {
     "name": "stdout",
     "output_type": "stream",
     "text": [
      "Un asteroide acaba de pasar, pero no iba con la velicadad necesaria para dejar una huella en el cielo\n"
     ]
    }
   ],
   "source": [
    "asteroide=19\n",
    "\n",
    "if asteroide >= 20:\n",
    "    print('Por favor salga a ver la estela de luz que dejo el asteroide que acaba de pasar')\n",
    "elif asteroide < 20:\n",
    "    print('Un asteroide acaba de pasar, pero no iba con la velicadad necesaria para dejar una huella en el cielo')\n",
    "else:\n",
    "    print('No se ha detectectado ningun asteroide acercando a la tierra')\n"
   ]
  },
  {
   "cell_type": "markdown",
   "metadata": {},
   "source": [
    "## **Advertencia de impacto con un asteroide**"
   ]
  },
  {
   "cell_type": "code",
   "execution_count": 24,
   "metadata": {},
   "outputs": [
    {
     "name": "stdout",
     "output_type": "stream",
     "text": [
      "Ciudadanos del mundo, ¡Están a salvo!\n",
      "No se ha detectado ningun asteroide acercarndose al planeta\n"
     ]
    }
   ],
   "source": [
    "objeto=1\n",
    "dimension=25\n",
    "\n",
    "if objeto > 25 and dimension > 25:\n",
    "    print('¡Atención, asteroide se dirige al planeta, impacto inminente!')\n",
    "if objeto < 25 or dimension < 25:\n",
    "    print('Ciudadanos del mundo, ¡Están a salvo!')\n",
    "if objeto < 25 and dimension < 25:\n",
    "    if objeto > 20 and dimension < 25 :\n",
    "        print('Ciudadanos del mundo, ¡Salgan a ver la estela de luz que dejo el asteroide que acaba de pasar!')\n",
    "elif objeto < 20 and dimension < 25:\n",
    "    if objeto >= 1 and dimension >= 1:\n",
    "        print('Posiblemente un asteroide paso, pero no dejo la estela de luz')\n",
    "else:\n",
    "    print('No se ha detectado ningun asteroide acercarndose al planeta')"
   ]
  }
 ],
 "metadata": {
  "interpreter": {
   "hash": "4a98cff6154e92655b8985cbc2a540aa299992c1fa2aca801a0a04b02f0fc0db"
  },
  "kernelspec": {
   "display_name": "Python 3.9.7 64-bit (system)",
   "language": "python",
   "name": "python3"
  },
  "language_info": {
   "codemirror_mode": {
    "name": "ipython",
    "version": 3
   },
   "file_extension": ".py",
   "mimetype": "text/x-python",
   "name": "python",
   "nbconvert_exporter": "python",
   "pygments_lexer": "ipython3",
   "version": "3.9.7"
  },
  "orig_nbformat": 4
 },
 "nbformat": 4,
 "nbformat_minor": 2
}
