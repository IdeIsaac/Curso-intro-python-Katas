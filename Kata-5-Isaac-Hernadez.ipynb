{
 "cells": [
  {
   "cell_type": "markdown",
   "metadata": {},
   "source": [
    "## **Ejercicio 1: De la Tierra a Jupiter**"
   ]
  },
  {
   "cell_type": "code",
   "execution_count": 1,
   "metadata": {},
   "outputs": [
    {
     "name": "stdout",
     "output_type": "stream",
     "text": [
      "La distancia entre Jupiter y la Tierra es de: 628949330 km\n"
     ]
    }
   ],
   "source": [
    "# Las distancias estan medidas desde el sol a los planetas\n",
    "# por lo que se sugiere es hacer la diferencia del más lejano\n",
    "# al más cercano\n",
    "\n",
    "Tierra = 149597870 \n",
    "Jupiter = 778547200\n",
    "\n",
    "distancia = Jupiter - Tierra\n",
    "print('La distancia entre Jupiter y la Tierra es de: ' + str(distancia) + ' km')"
   ]
  },
  {
   "cell_type": "markdown",
   "metadata": {},
   "source": [
    "## **La distancia de la Tierra a Jupiter en millas**\n",
    "\n",
    "+ Para hacer que el resultado de la distancia entre la Tierra y Jupiter se muestre en millas se hace multiplicando el resultado de la distancia por 0.621, que corresponde a la equivalencia de 1 km a millas"
   ]
  },
  {
   "cell_type": "code",
   "execution_count": 2,
   "metadata": {},
   "outputs": [
    {
     "name": "stdout",
     "output_type": "stream",
     "text": [
      "La equivalencia de la distancia entre la Tierra y Jupiter en millas es de 390577533.93\n"
     ]
    }
   ],
   "source": [
    "mi = distancia * 0.621\n",
    "print('La equivalencia de la distancia entre la Tierra y Jupiter en millas es de '+ str(mi))"
   ]
  },
  {
   "cell_type": "markdown",
   "metadata": {},
   "source": [
    "## **Ejecicio 2: Dime la distancia y te dire cuanto te falta**\n",
    "\n",
    "+ En este punto se hace interacción con un usurio para que ingrese los valores y el programa devuelva la distncia entre ambos planetas.\n",
    "\n",
    "+ **Solo se puede acceder con las credenciales oficiales al sistema.**"
   ]
  },
  {
   "cell_type": "code",
   "execution_count": 8,
   "metadata": {},
   "outputs": [
    {
     "name": "stdout",
     "output_type": "stream",
     "text": [
      "\n",
      " Para acceder a la computadora de la nave, por favor identifíquese 👮‍♂️\n",
      "\n",
      "\n",
      " Un gusto saludarle, Mission Commander👩‍🚀. ¡Bienvenida! 🤩\n",
      "\n",
      "\n",
      "                          Distancia Entre Planetas\n",
      "     --------------------------------------------------------------------------------\n",
      "    Distancia entre los planetas en kilometros: 100700000 km\n",
      "    --------------------------------------------------------------------------------\n",
      "    Distancia entre los planetas en millas: 62534700.0 mi\n",
      "    --------------------------------------------------------------------------------\n",
      "        \n",
      "        \n",
      "\n"
     ]
    }
   ],
   "source": [
    "print('\\n Para acceder a la computadora de la nave, por favor identifíquese 👮‍♂️\\n')\n",
    "credenciales = input('\\n Nombre: ')\n",
    "puesto = input('\\n Introduzca su puesto: \\n')\n",
    "if credenciales == 'Fernanda Ochoa' and puesto == 'Mission Commander':\n",
    "    print(f'\\n Un gusto saludarle, {puesto}👩‍🚀. ¡Bienvenida! 🤩\\n')\n",
    "    planeta_u = int(input(f'\\n Por favor, {puesto}, introduzca la distancia del sol al primer planeta: '))\n",
    "    planeta_d = int(input('\\n Ahora, por favor ingrese la distancia al sol del segundo planeta: '))\n",
    "    distancia = abs(planeta_u - planeta_d)\n",
    "    mi = distancia * 0.621\n",
    "    titulo = '                          Distancia entre planetas'\n",
    "    formato = f\"\"\"{'-'*80}\n",
    "    Distancia entre los planetas en kilometros: {distancia} km\n",
    "    {'-'*80}\n",
    "    Distancia entre los planetas en millas: {mi} mi\n",
    "    {'-'*80}\n",
    "        \"\"\"\n",
    "    plantilla = f\"\"\"{titulo.title()}\n",
    "     {formato}\n",
    "        \"\"\"\n",
    "    print(f'\\n{plantilla}\\n')\n",
    "else:\n",
    "    print(' 🚫🚫🚫Acceso denegado🚫🚫🚫\\n🙅‍♀️🙅‍♀️🙅‍♀️¡Usted no tiene permiso para acceder a la computadora de la nave!🙅‍♀️🙅‍♀️🙅‍♀️')"
   ]
  },
  {
   "cell_type": "code",
   "execution_count": null,
   "metadata": {},
   "outputs": [],
   "source": []
  }
 ],
 "metadata": {
  "interpreter": {
   "hash": "4a98cff6154e92655b8985cbc2a540aa299992c1fa2aca801a0a04b02f0fc0db"
  },
  "kernelspec": {
   "display_name": "Python 3.9.7 64-bit (system)",
   "language": "python",
   "name": "python3"
  },
  "language_info": {
   "codemirror_mode": {
    "name": "ipython",
    "version": 3
   },
   "file_extension": ".py",
   "mimetype": "text/x-python",
   "name": "python",
   "nbconvert_exporter": "python",
   "pygments_lexer": "ipython3",
   "version": "3.9.7"
  },
  "orig_nbformat": 4
 },
 "nbformat": 4,
 "nbformat_minor": 2
}
